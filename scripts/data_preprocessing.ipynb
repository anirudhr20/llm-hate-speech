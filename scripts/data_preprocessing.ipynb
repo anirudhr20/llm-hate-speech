{
 "cells": [
  {
   "cell_type": "code",
   "execution_count": 1,
   "metadata": {},
   "outputs": [],
   "source": [
    "import pandas as pd\n",
    "import numpy as np\n",
    "import torch"
   ]
  },
  {
   "cell_type": "code",
   "execution_count": 2,
   "metadata": {},
   "outputs": [],
   "source": [
    "CAD = 'cad'\n",
    "HATEEXPLAIN = 'hatexplain'\n",
    "JIGSAW = 'jigsaw'\n",
    "ORIGNAL_DATASET_PATH = './../data/original_data/' "
   ]
  },
  {
   "cell_type": "code",
   "execution_count": 34,
   "metadata": {},
   "outputs": [
    {
     "name": "stdout",
     "output_type": "stream",
     "text": [
      "(13584, 2) (4526, 2) (5307, 2)\n"
     ]
    }
   ],
   "source": [
    "def read_json_data(filepath):\n",
    "    colnames = ['input', 'label']\n",
    "    train = pd.read_json(filepath + 'train.json')\n",
    "    test = pd.read_json(filepath + 'test.json')\n",
    "    val = pd.read_json(filepath + 'val.json')\n",
    "    print(train.shape, val.shape, test.shape)\n",
    "    df = pd.concat([train, test, val])\n",
    "    df.columns = colnames\n",
    "    df.reset_index(inplace=True)\n",
    "    return df"
   ]
  },
  {
   "cell_type": "code",
   "execution_count": 35,
   "metadata": {},
   "outputs": [],
   "source": [
    "from langdetect import detect, DetectorFactory\n",
    "from langdetect.lang_detect_exception import LangDetectException\n",
    "\n",
    "DetectorFactory.seed = 0\n",
    "\n",
    "# Assuming df is your DataFrame and it has a column 'text' with the sentences\n",
    "def is_english(text):\n",
    "    try:\n",
    "        return detect(text) == 'en'\n",
    "    except LangDetectException:\n",
    "        return False"
   ]
  },
  {
   "cell_type": "code",
   "execution_count": 36,
   "metadata": {},
   "outputs": [],
   "source": [
    "import re\n",
    "def remove_punctuation_except_periods(text):\n",
    "    # Replace all punctuation except periods with nothing\n",
    "    return re.sub(r'[^\\w\\s]', '', text)"
   ]
  },
  {
   "cell_type": "code",
   "execution_count": 37,
   "metadata": {},
   "outputs": [],
   "source": [
    "def process_text(text):\n",
    "    # Remove leading and trailing whitespace from each line\n",
    "    lines = [line.strip() for line in text.split('\\n')]\n",
    "    \n",
    "    # Join lines with a period, adding one if not already present\n",
    "    joined_text = '. '.join(line if line.endswith('.') else line + '.' for line in lines if line)\n",
    "    \n",
    "    # Replace multiple spaces with a single space\n",
    "    cleaned_text = re.sub(r'\\s+', ' ', joined_text)\n",
    "\n",
    "    return cleaned_text"
   ]
  },
  {
   "cell_type": "code",
   "execution_count": 38,
   "metadata": {},
   "outputs": [],
   "source": [
    "def remove_special_characters(text):\n",
    "    # Replace any character that is not a letter or number with nothing\n",
    "    return re.sub(r'[^A-Za-z\\s\\.]', '', text)"
   ]
  },
  {
   "cell_type": "code",
   "execution_count": 39,
   "metadata": {},
   "outputs": [],
   "source": [
    "df = read_json_data(ORIGNAL_DATASET_PATH + CAD + '/')\n",
    "df['input'] = df['input'].apply(remove_punctuation_except_periods)\n",
    "df['input'] = df['input'].apply(process_text)\n",
    "df['input'] = df['input'].apply(remove_special_characters)\n",
    "df.to_json('./../data/processed_data/' + CAD + '.json')"
   ]
  },
  {
   "cell_type": "code",
   "execution_count": 41,
   "metadata": {},
   "outputs": [
    {
     "name": "stdout",
     "output_type": "stream",
     "text": [
      "(15383, 2) (1922, 2) (1924, 2)\n"
     ]
    }
   ],
   "source": [
    "df = read_json_data(ORIGNAL_DATASET_PATH + HATEEXPLAIN + '/')\n",
    "df['input'] = df['input'].apply(remove_punctuation_except_periods)\n",
    "df['input'] = df['input'].apply(process_text)\n",
    "df['input'] = df['input'].apply(remove_special_characters)\n",
    "df.to_json('./../data/processed_data/' + HATEEXPLAIN + '.json')"
   ]
  },
  {
   "cell_type": "code",
   "execution_count": 42,
   "metadata": {},
   "outputs": [
    {
     "name": "stdout",
     "output_type": "stream",
     "text": [
      "(159571, 2) (1000, 2) (63978, 2)\n"
     ]
    }
   ],
   "source": [
    "df = read_json_data(ORIGNAL_DATASET_PATH + JIGSAW + '/')\n",
    "df['input'] = df['input'].apply(remove_punctuation_except_periods)\n",
    "df['input'] = df['input'].apply(process_text)\n",
    "df['input'] = df['input'].apply(remove_special_characters)\n",
    "df.to_json('./../data/processed_data/' + JIGSAW + '.json')"
   ]
  }
 ],
 "metadata": {
  "kernelspec": {
   "display_name": ".venv",
   "language": "python",
   "name": "python3"
  },
  "language_info": {
   "codemirror_mode": {
    "name": "ipython",
    "version": 3
   },
   "file_extension": ".py",
   "mimetype": "text/x-python",
   "name": "python",
   "nbconvert_exporter": "python",
   "pygments_lexer": "ipython3",
   "version": "3.9.6"
  }
 },
 "nbformat": 4,
 "nbformat_minor": 2
}
